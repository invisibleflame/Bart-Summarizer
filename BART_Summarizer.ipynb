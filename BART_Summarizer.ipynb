{
  "nbformat": 4,
  "nbformat_minor": 0,
  "metadata": {
    "hide_input": false,
    "kernelspec": {
      "display_name": "Python 3",
      "language": "python",
      "name": "python3"
    },
    "language_info": {
      "codemirror_mode": {
        "name": "ipython",
        "version": 3
      },
      "file_extension": ".py",
      "mimetype": "text/x-python",
      "name": "python",
      "nbconvert_exporter": "python",
      "pygments_lexer": "ipython3",
      "version": "3.7.5"
    },
    "colab": {
      "name": "BART Summarizer",
      "provenance": []
    },
    "accelerator": "GPU",
    "widgets": {
      "application/vnd.jupyter.widget-state+json": {
        "d935997bea184fd5a797054ff3fb8cca": {
          "model_module": "@jupyter-widgets/controls",
          "model_name": "HBoxModel",
          "model_module_version": "1.5.0",
          "state": {
            "_view_name": "HBoxView",
            "_dom_classes": [],
            "_model_name": "HBoxModel",
            "_view_module": "@jupyter-widgets/controls",
            "_model_module_version": "1.5.0",
            "_view_count": null,
            "_view_module_version": "1.5.0",
            "box_style": "",
            "layout": "IPY_MODEL_5f4b475f842f4f679a440e06d5c9d13b",
            "_model_module": "@jupyter-widgets/controls",
            "children": [
              "IPY_MODEL_a3c7eb21f5174ff6adfa76bee6d5e9ea",
              "IPY_MODEL_4d6a6573d70c4125ae4564ee4e4434a7"
            ]
          }
        },
        "5f4b475f842f4f679a440e06d5c9d13b": {
          "model_module": "@jupyter-widgets/base",
          "model_name": "LayoutModel",
          "model_module_version": "1.2.0",
          "state": {
            "_view_name": "LayoutView",
            "grid_template_rows": null,
            "right": null,
            "justify_content": null,
            "_view_module": "@jupyter-widgets/base",
            "overflow": null,
            "_model_module_version": "1.2.0",
            "_view_count": null,
            "flex_flow": null,
            "width": null,
            "min_width": null,
            "border": null,
            "align_items": null,
            "bottom": null,
            "_model_module": "@jupyter-widgets/base",
            "top": null,
            "grid_column": null,
            "overflow_y": null,
            "overflow_x": null,
            "grid_auto_flow": null,
            "grid_area": null,
            "grid_template_columns": null,
            "flex": null,
            "_model_name": "LayoutModel",
            "justify_items": null,
            "grid_row": null,
            "max_height": null,
            "align_content": null,
            "visibility": null,
            "align_self": null,
            "height": null,
            "min_height": null,
            "padding": null,
            "grid_auto_rows": null,
            "grid_gap": null,
            "max_width": null,
            "order": null,
            "_view_module_version": "1.2.0",
            "grid_template_areas": null,
            "object_position": null,
            "object_fit": null,
            "grid_auto_columns": null,
            "margin": null,
            "display": null,
            "left": null
          }
        },
        "a3c7eb21f5174ff6adfa76bee6d5e9ea": {
          "model_module": "@jupyter-widgets/controls",
          "model_name": "FloatProgressModel",
          "model_module_version": "1.5.0",
          "state": {
            "_view_name": "ProgressView",
            "style": "IPY_MODEL_fef7ee84ec284c99abd3c6988f973868",
            "_dom_classes": [],
            "description": "Downloading: 100%",
            "_model_name": "FloatProgressModel",
            "bar_style": "success",
            "max": 898823,
            "_view_module": "@jupyter-widgets/controls",
            "_model_module_version": "1.5.0",
            "value": 898823,
            "_view_count": null,
            "_view_module_version": "1.5.0",
            "orientation": "horizontal",
            "min": 0,
            "description_tooltip": null,
            "_model_module": "@jupyter-widgets/controls",
            "layout": "IPY_MODEL_5b771cccda6741eeb1ea0b36b77932c5"
          }
        },
        "4d6a6573d70c4125ae4564ee4e4434a7": {
          "model_module": "@jupyter-widgets/controls",
          "model_name": "HTMLModel",
          "model_module_version": "1.5.0",
          "state": {
            "_view_name": "HTMLView",
            "style": "IPY_MODEL_25e71b1706e64817acda809ac7b60c8b",
            "_dom_classes": [],
            "description": "",
            "_model_name": "HTMLModel",
            "placeholder": "​",
            "_view_module": "@jupyter-widgets/controls",
            "_model_module_version": "1.5.0",
            "value": " 899k/899k [00:04&lt;00:00, 218kB/s]",
            "_view_count": null,
            "_view_module_version": "1.5.0",
            "description_tooltip": null,
            "_model_module": "@jupyter-widgets/controls",
            "layout": "IPY_MODEL_dce45a0e55e243429a981a3e2140516c"
          }
        },
        "fef7ee84ec284c99abd3c6988f973868": {
          "model_module": "@jupyter-widgets/controls",
          "model_name": "ProgressStyleModel",
          "model_module_version": "1.5.0",
          "state": {
            "_view_name": "StyleView",
            "_model_name": "ProgressStyleModel",
            "description_width": "initial",
            "_view_module": "@jupyter-widgets/base",
            "_model_module_version": "1.5.0",
            "_view_count": null,
            "_view_module_version": "1.2.0",
            "bar_color": null,
            "_model_module": "@jupyter-widgets/controls"
          }
        },
        "5b771cccda6741eeb1ea0b36b77932c5": {
          "model_module": "@jupyter-widgets/base",
          "model_name": "LayoutModel",
          "model_module_version": "1.2.0",
          "state": {
            "_view_name": "LayoutView",
            "grid_template_rows": null,
            "right": null,
            "justify_content": null,
            "_view_module": "@jupyter-widgets/base",
            "overflow": null,
            "_model_module_version": "1.2.0",
            "_view_count": null,
            "flex_flow": null,
            "width": null,
            "min_width": null,
            "border": null,
            "align_items": null,
            "bottom": null,
            "_model_module": "@jupyter-widgets/base",
            "top": null,
            "grid_column": null,
            "overflow_y": null,
            "overflow_x": null,
            "grid_auto_flow": null,
            "grid_area": null,
            "grid_template_columns": null,
            "flex": null,
            "_model_name": "LayoutModel",
            "justify_items": null,
            "grid_row": null,
            "max_height": null,
            "align_content": null,
            "visibility": null,
            "align_self": null,
            "height": null,
            "min_height": null,
            "padding": null,
            "grid_auto_rows": null,
            "grid_gap": null,
            "max_width": null,
            "order": null,
            "_view_module_version": "1.2.0",
            "grid_template_areas": null,
            "object_position": null,
            "object_fit": null,
            "grid_auto_columns": null,
            "margin": null,
            "display": null,
            "left": null
          }
        },
        "25e71b1706e64817acda809ac7b60c8b": {
          "model_module": "@jupyter-widgets/controls",
          "model_name": "DescriptionStyleModel",
          "model_module_version": "1.5.0",
          "state": {
            "_view_name": "StyleView",
            "_model_name": "DescriptionStyleModel",
            "description_width": "",
            "_view_module": "@jupyter-widgets/base",
            "_model_module_version": "1.5.0",
            "_view_count": null,
            "_view_module_version": "1.2.0",
            "_model_module": "@jupyter-widgets/controls"
          }
        },
        "dce45a0e55e243429a981a3e2140516c": {
          "model_module": "@jupyter-widgets/base",
          "model_name": "LayoutModel",
          "model_module_version": "1.2.0",
          "state": {
            "_view_name": "LayoutView",
            "grid_template_rows": null,
            "right": null,
            "justify_content": null,
            "_view_module": "@jupyter-widgets/base",
            "overflow": null,
            "_model_module_version": "1.2.0",
            "_view_count": null,
            "flex_flow": null,
            "width": null,
            "min_width": null,
            "border": null,
            "align_items": null,
            "bottom": null,
            "_model_module": "@jupyter-widgets/base",
            "top": null,
            "grid_column": null,
            "overflow_y": null,
            "overflow_x": null,
            "grid_auto_flow": null,
            "grid_area": null,
            "grid_template_columns": null,
            "flex": null,
            "_model_name": "LayoutModel",
            "justify_items": null,
            "grid_row": null,
            "max_height": null,
            "align_content": null,
            "visibility": null,
            "align_self": null,
            "height": null,
            "min_height": null,
            "padding": null,
            "grid_auto_rows": null,
            "grid_gap": null,
            "max_width": null,
            "order": null,
            "_view_module_version": "1.2.0",
            "grid_template_areas": null,
            "object_position": null,
            "object_fit": null,
            "grid_auto_columns": null,
            "margin": null,
            "display": null,
            "left": null
          }
        },
        "b3f7ee582c02475988eef6a3f860d93b": {
          "model_module": "@jupyter-widgets/controls",
          "model_name": "HBoxModel",
          "model_module_version": "1.5.0",
          "state": {
            "_view_name": "HBoxView",
            "_dom_classes": [],
            "_model_name": "HBoxModel",
            "_view_module": "@jupyter-widgets/controls",
            "_model_module_version": "1.5.0",
            "_view_count": null,
            "_view_module_version": "1.5.0",
            "box_style": "",
            "layout": "IPY_MODEL_a1141c25fddb474c9ca258ed7fb79b20",
            "_model_module": "@jupyter-widgets/controls",
            "children": [
              "IPY_MODEL_a357d7aada7a44a78520ebcb767575c2",
              "IPY_MODEL_dba8a35c91ce427884f25130e53d5680"
            ]
          }
        },
        "a1141c25fddb474c9ca258ed7fb79b20": {
          "model_module": "@jupyter-widgets/base",
          "model_name": "LayoutModel",
          "model_module_version": "1.2.0",
          "state": {
            "_view_name": "LayoutView",
            "grid_template_rows": null,
            "right": null,
            "justify_content": null,
            "_view_module": "@jupyter-widgets/base",
            "overflow": null,
            "_model_module_version": "1.2.0",
            "_view_count": null,
            "flex_flow": null,
            "width": null,
            "min_width": null,
            "border": null,
            "align_items": null,
            "bottom": null,
            "_model_module": "@jupyter-widgets/base",
            "top": null,
            "grid_column": null,
            "overflow_y": null,
            "overflow_x": null,
            "grid_auto_flow": null,
            "grid_area": null,
            "grid_template_columns": null,
            "flex": null,
            "_model_name": "LayoutModel",
            "justify_items": null,
            "grid_row": null,
            "max_height": null,
            "align_content": null,
            "visibility": null,
            "align_self": null,
            "height": null,
            "min_height": null,
            "padding": null,
            "grid_auto_rows": null,
            "grid_gap": null,
            "max_width": null,
            "order": null,
            "_view_module_version": "1.2.0",
            "grid_template_areas": null,
            "object_position": null,
            "object_fit": null,
            "grid_auto_columns": null,
            "margin": null,
            "display": null,
            "left": null
          }
        },
        "a357d7aada7a44a78520ebcb767575c2": {
          "model_module": "@jupyter-widgets/controls",
          "model_name": "FloatProgressModel",
          "model_module_version": "1.5.0",
          "state": {
            "_view_name": "ProgressView",
            "style": "IPY_MODEL_646273ca48ff47aeaef31c6508df367e",
            "_dom_classes": [],
            "description": "Downloading: 100%",
            "_model_name": "FloatProgressModel",
            "bar_style": "success",
            "max": 456318,
            "_view_module": "@jupyter-widgets/controls",
            "_model_module_version": "1.5.0",
            "value": 456318,
            "_view_count": null,
            "_view_module_version": "1.5.0",
            "orientation": "horizontal",
            "min": 0,
            "description_tooltip": null,
            "_model_module": "@jupyter-widgets/controls",
            "layout": "IPY_MODEL_f95747f9211b42abbe3681a751d07be1"
          }
        },
        "dba8a35c91ce427884f25130e53d5680": {
          "model_module": "@jupyter-widgets/controls",
          "model_name": "HTMLModel",
          "model_module_version": "1.5.0",
          "state": {
            "_view_name": "HTMLView",
            "style": "IPY_MODEL_01a0d8e1463d4cd9b96257448b211913",
            "_dom_classes": [],
            "description": "",
            "_model_name": "HTMLModel",
            "placeholder": "​",
            "_view_module": "@jupyter-widgets/controls",
            "_model_module_version": "1.5.0",
            "value": " 456k/456k [00:01&lt;00:00, 229kB/s]",
            "_view_count": null,
            "_view_module_version": "1.5.0",
            "description_tooltip": null,
            "_model_module": "@jupyter-widgets/controls",
            "layout": "IPY_MODEL_ad3b5e72c8694a2dabf211a04a51d914"
          }
        },
        "646273ca48ff47aeaef31c6508df367e": {
          "model_module": "@jupyter-widgets/controls",
          "model_name": "ProgressStyleModel",
          "model_module_version": "1.5.0",
          "state": {
            "_view_name": "StyleView",
            "_model_name": "ProgressStyleModel",
            "description_width": "initial",
            "_view_module": "@jupyter-widgets/base",
            "_model_module_version": "1.5.0",
            "_view_count": null,
            "_view_module_version": "1.2.0",
            "bar_color": null,
            "_model_module": "@jupyter-widgets/controls"
          }
        },
        "f95747f9211b42abbe3681a751d07be1": {
          "model_module": "@jupyter-widgets/base",
          "model_name": "LayoutModel",
          "model_module_version": "1.2.0",
          "state": {
            "_view_name": "LayoutView",
            "grid_template_rows": null,
            "right": null,
            "justify_content": null,
            "_view_module": "@jupyter-widgets/base",
            "overflow": null,
            "_model_module_version": "1.2.0",
            "_view_count": null,
            "flex_flow": null,
            "width": null,
            "min_width": null,
            "border": null,
            "align_items": null,
            "bottom": null,
            "_model_module": "@jupyter-widgets/base",
            "top": null,
            "grid_column": null,
            "overflow_y": null,
            "overflow_x": null,
            "grid_auto_flow": null,
            "grid_area": null,
            "grid_template_columns": null,
            "flex": null,
            "_model_name": "LayoutModel",
            "justify_items": null,
            "grid_row": null,
            "max_height": null,
            "align_content": null,
            "visibility": null,
            "align_self": null,
            "height": null,
            "min_height": null,
            "padding": null,
            "grid_auto_rows": null,
            "grid_gap": null,
            "max_width": null,
            "order": null,
            "_view_module_version": "1.2.0",
            "grid_template_areas": null,
            "object_position": null,
            "object_fit": null,
            "grid_auto_columns": null,
            "margin": null,
            "display": null,
            "left": null
          }
        },
        "01a0d8e1463d4cd9b96257448b211913": {
          "model_module": "@jupyter-widgets/controls",
          "model_name": "DescriptionStyleModel",
          "model_module_version": "1.5.0",
          "state": {
            "_view_name": "StyleView",
            "_model_name": "DescriptionStyleModel",
            "description_width": "",
            "_view_module": "@jupyter-widgets/base",
            "_model_module_version": "1.5.0",
            "_view_count": null,
            "_view_module_version": "1.2.0",
            "_model_module": "@jupyter-widgets/controls"
          }
        },
        "ad3b5e72c8694a2dabf211a04a51d914": {
          "model_module": "@jupyter-widgets/base",
          "model_name": "LayoutModel",
          "model_module_version": "1.2.0",
          "state": {
            "_view_name": "LayoutView",
            "grid_template_rows": null,
            "right": null,
            "justify_content": null,
            "_view_module": "@jupyter-widgets/base",
            "overflow": null,
            "_model_module_version": "1.2.0",
            "_view_count": null,
            "flex_flow": null,
            "width": null,
            "min_width": null,
            "border": null,
            "align_items": null,
            "bottom": null,
            "_model_module": "@jupyter-widgets/base",
            "top": null,
            "grid_column": null,
            "overflow_y": null,
            "overflow_x": null,
            "grid_auto_flow": null,
            "grid_area": null,
            "grid_template_columns": null,
            "flex": null,
            "_model_name": "LayoutModel",
            "justify_items": null,
            "grid_row": null,
            "max_height": null,
            "align_content": null,
            "visibility": null,
            "align_self": null,
            "height": null,
            "min_height": null,
            "padding": null,
            "grid_auto_rows": null,
            "grid_gap": null,
            "max_width": null,
            "order": null,
            "_view_module_version": "1.2.0",
            "grid_template_areas": null,
            "object_position": null,
            "object_fit": null,
            "grid_auto_columns": null,
            "margin": null,
            "display": null,
            "left": null
          }
        },
        "6e8ebc2a3d0547c3b13ebe30eecf3d8f": {
          "model_module": "@jupyter-widgets/controls",
          "model_name": "HBoxModel",
          "model_module_version": "1.5.0",
          "state": {
            "_view_name": "HBoxView",
            "_dom_classes": [],
            "_model_name": "HBoxModel",
            "_view_module": "@jupyter-widgets/controls",
            "_model_module_version": "1.5.0",
            "_view_count": null,
            "_view_module_version": "1.5.0",
            "box_style": "",
            "layout": "IPY_MODEL_04c6a105c8d34b1a80d8b0e495584e63",
            "_model_module": "@jupyter-widgets/controls",
            "children": [
              "IPY_MODEL_ba7e8050044f4ba89d342c3bcd269540",
              "IPY_MODEL_1e3b7c5689ea44e7b8798b43a982c155"
            ]
          }
        },
        "04c6a105c8d34b1a80d8b0e495584e63": {
          "model_module": "@jupyter-widgets/base",
          "model_name": "LayoutModel",
          "model_module_version": "1.2.0",
          "state": {
            "_view_name": "LayoutView",
            "grid_template_rows": null,
            "right": null,
            "justify_content": null,
            "_view_module": "@jupyter-widgets/base",
            "overflow": null,
            "_model_module_version": "1.2.0",
            "_view_count": null,
            "flex_flow": null,
            "width": null,
            "min_width": null,
            "border": null,
            "align_items": null,
            "bottom": null,
            "_model_module": "@jupyter-widgets/base",
            "top": null,
            "grid_column": null,
            "overflow_y": null,
            "overflow_x": null,
            "grid_auto_flow": null,
            "grid_area": null,
            "grid_template_columns": null,
            "flex": null,
            "_model_name": "LayoutModel",
            "justify_items": null,
            "grid_row": null,
            "max_height": null,
            "align_content": null,
            "visibility": null,
            "align_self": null,
            "height": null,
            "min_height": null,
            "padding": null,
            "grid_auto_rows": null,
            "grid_gap": null,
            "max_width": null,
            "order": null,
            "_view_module_version": "1.2.0",
            "grid_template_areas": null,
            "object_position": null,
            "object_fit": null,
            "grid_auto_columns": null,
            "margin": null,
            "display": null,
            "left": null
          }
        },
        "ba7e8050044f4ba89d342c3bcd269540": {
          "model_module": "@jupyter-widgets/controls",
          "model_name": "FloatProgressModel",
          "model_module_version": "1.5.0",
          "state": {
            "_view_name": "ProgressView",
            "style": "IPY_MODEL_c103677214934c788858d0e4f1356644",
            "_dom_classes": [],
            "description": "Downloading: 100%",
            "_model_name": "FloatProgressModel",
            "bar_style": "success",
            "max": 1355863,
            "_view_module": "@jupyter-widgets/controls",
            "_model_module_version": "1.5.0",
            "value": 1355863,
            "_view_count": null,
            "_view_module_version": "1.5.0",
            "orientation": "horizontal",
            "min": 0,
            "description_tooltip": null,
            "_model_module": "@jupyter-widgets/controls",
            "layout": "IPY_MODEL_f8e54d618e004e2f9174b2f800186cbd"
          }
        },
        "1e3b7c5689ea44e7b8798b43a982c155": {
          "model_module": "@jupyter-widgets/controls",
          "model_name": "HTMLModel",
          "model_module_version": "1.5.0",
          "state": {
            "_view_name": "HTMLView",
            "style": "IPY_MODEL_c09214edef9f4fabb4132912a87c2aee",
            "_dom_classes": [],
            "description": "",
            "_model_name": "HTMLModel",
            "placeholder": "​",
            "_view_module": "@jupyter-widgets/controls",
            "_model_module_version": "1.5.0",
            "value": " 1.36M/1.36M [00:01&lt;00:00, 1.18MB/s]",
            "_view_count": null,
            "_view_module_version": "1.5.0",
            "description_tooltip": null,
            "_model_module": "@jupyter-widgets/controls",
            "layout": "IPY_MODEL_39bcee6eee134a8db3807737a2a1c0af"
          }
        },
        "c103677214934c788858d0e4f1356644": {
          "model_module": "@jupyter-widgets/controls",
          "model_name": "ProgressStyleModel",
          "model_module_version": "1.5.0",
          "state": {
            "_view_name": "StyleView",
            "_model_name": "ProgressStyleModel",
            "description_width": "initial",
            "_view_module": "@jupyter-widgets/base",
            "_model_module_version": "1.5.0",
            "_view_count": null,
            "_view_module_version": "1.2.0",
            "bar_color": null,
            "_model_module": "@jupyter-widgets/controls"
          }
        },
        "f8e54d618e004e2f9174b2f800186cbd": {
          "model_module": "@jupyter-widgets/base",
          "model_name": "LayoutModel",
          "model_module_version": "1.2.0",
          "state": {
            "_view_name": "LayoutView",
            "grid_template_rows": null,
            "right": null,
            "justify_content": null,
            "_view_module": "@jupyter-widgets/base",
            "overflow": null,
            "_model_module_version": "1.2.0",
            "_view_count": null,
            "flex_flow": null,
            "width": null,
            "min_width": null,
            "border": null,
            "align_items": null,
            "bottom": null,
            "_model_module": "@jupyter-widgets/base",
            "top": null,
            "grid_column": null,
            "overflow_y": null,
            "overflow_x": null,
            "grid_auto_flow": null,
            "grid_area": null,
            "grid_template_columns": null,
            "flex": null,
            "_model_name": "LayoutModel",
            "justify_items": null,
            "grid_row": null,
            "max_height": null,
            "align_content": null,
            "visibility": null,
            "align_self": null,
            "height": null,
            "min_height": null,
            "padding": null,
            "grid_auto_rows": null,
            "grid_gap": null,
            "max_width": null,
            "order": null,
            "_view_module_version": "1.2.0",
            "grid_template_areas": null,
            "object_position": null,
            "object_fit": null,
            "grid_auto_columns": null,
            "margin": null,
            "display": null,
            "left": null
          }
        },
        "c09214edef9f4fabb4132912a87c2aee": {
          "model_module": "@jupyter-widgets/controls",
          "model_name": "DescriptionStyleModel",
          "model_module_version": "1.5.0",
          "state": {
            "_view_name": "StyleView",
            "_model_name": "DescriptionStyleModel",
            "description_width": "",
            "_view_module": "@jupyter-widgets/base",
            "_model_module_version": "1.5.0",
            "_view_count": null,
            "_view_module_version": "1.2.0",
            "_model_module": "@jupyter-widgets/controls"
          }
        },
        "39bcee6eee134a8db3807737a2a1c0af": {
          "model_module": "@jupyter-widgets/base",
          "model_name": "LayoutModel",
          "model_module_version": "1.2.0",
          "state": {
            "_view_name": "LayoutView",
            "grid_template_rows": null,
            "right": null,
            "justify_content": null,
            "_view_module": "@jupyter-widgets/base",
            "overflow": null,
            "_model_module_version": "1.2.0",
            "_view_count": null,
            "flex_flow": null,
            "width": null,
            "min_width": null,
            "border": null,
            "align_items": null,
            "bottom": null,
            "_model_module": "@jupyter-widgets/base",
            "top": null,
            "grid_column": null,
            "overflow_y": null,
            "overflow_x": null,
            "grid_auto_flow": null,
            "grid_area": null,
            "grid_template_columns": null,
            "flex": null,
            "_model_name": "LayoutModel",
            "justify_items": null,
            "grid_row": null,
            "max_height": null,
            "align_content": null,
            "visibility": null,
            "align_self": null,
            "height": null,
            "min_height": null,
            "padding": null,
            "grid_auto_rows": null,
            "grid_gap": null,
            "max_width": null,
            "order": null,
            "_view_module_version": "1.2.0",
            "grid_template_areas": null,
            "object_position": null,
            "object_fit": null,
            "grid_auto_columns": null,
            "margin": null,
            "display": null,
            "left": null
          }
        },
        "8f02ae0d939c4039b7b67c484f1f96b7": {
          "model_module": "@jupyter-widgets/controls",
          "model_name": "HBoxModel",
          "model_module_version": "1.5.0",
          "state": {
            "_view_name": "HBoxView",
            "_dom_classes": [],
            "_model_name": "HBoxModel",
            "_view_module": "@jupyter-widgets/controls",
            "_model_module_version": "1.5.0",
            "_view_count": null,
            "_view_module_version": "1.5.0",
            "box_style": "",
            "layout": "IPY_MODEL_b9055ee3e77e4b87af01f91415c27d57",
            "_model_module": "@jupyter-widgets/controls",
            "children": [
              "IPY_MODEL_b1fc5b409ec147adb4f74e2dce76ee1a",
              "IPY_MODEL_6edbef49f9fd43af9e5c088e4a8e58b2"
            ]
          }
        },
        "b9055ee3e77e4b87af01f91415c27d57": {
          "model_module": "@jupyter-widgets/base",
          "model_name": "LayoutModel",
          "model_module_version": "1.2.0",
          "state": {
            "_view_name": "LayoutView",
            "grid_template_rows": null,
            "right": null,
            "justify_content": null,
            "_view_module": "@jupyter-widgets/base",
            "overflow": null,
            "_model_module_version": "1.2.0",
            "_view_count": null,
            "flex_flow": null,
            "width": null,
            "min_width": null,
            "border": null,
            "align_items": null,
            "bottom": null,
            "_model_module": "@jupyter-widgets/base",
            "top": null,
            "grid_column": null,
            "overflow_y": null,
            "overflow_x": null,
            "grid_auto_flow": null,
            "grid_area": null,
            "grid_template_columns": null,
            "flex": null,
            "_model_name": "LayoutModel",
            "justify_items": null,
            "grid_row": null,
            "max_height": null,
            "align_content": null,
            "visibility": null,
            "align_self": null,
            "height": null,
            "min_height": null,
            "padding": null,
            "grid_auto_rows": null,
            "grid_gap": null,
            "max_width": null,
            "order": null,
            "_view_module_version": "1.2.0",
            "grid_template_areas": null,
            "object_position": null,
            "object_fit": null,
            "grid_auto_columns": null,
            "margin": null,
            "display": null,
            "left": null
          }
        },
        "b1fc5b409ec147adb4f74e2dce76ee1a": {
          "model_module": "@jupyter-widgets/controls",
          "model_name": "FloatProgressModel",
          "model_module_version": "1.5.0",
          "state": {
            "_view_name": "ProgressView",
            "style": "IPY_MODEL_d461832da1114d45bb74a372f941fa29",
            "_dom_classes": [],
            "description": "Downloading: 100%",
            "_model_name": "FloatProgressModel",
            "bar_style": "success",
            "max": 1585,
            "_view_module": "@jupyter-widgets/controls",
            "_model_module_version": "1.5.0",
            "value": 1585,
            "_view_count": null,
            "_view_module_version": "1.5.0",
            "orientation": "horizontal",
            "min": 0,
            "description_tooltip": null,
            "_model_module": "@jupyter-widgets/controls",
            "layout": "IPY_MODEL_9eb74d02ae0d482b9ccaa3485f0c61ac"
          }
        },
        "6edbef49f9fd43af9e5c088e4a8e58b2": {
          "model_module": "@jupyter-widgets/controls",
          "model_name": "HTMLModel",
          "model_module_version": "1.5.0",
          "state": {
            "_view_name": "HTMLView",
            "style": "IPY_MODEL_051e6ddcc00845539d25392ddc6d4ce6",
            "_dom_classes": [],
            "description": "",
            "_model_name": "HTMLModel",
            "placeholder": "​",
            "_view_module": "@jupyter-widgets/controls",
            "_model_module_version": "1.5.0",
            "value": " 1.58k/1.58k [00:00&lt;00:00, 23.0kB/s]",
            "_view_count": null,
            "_view_module_version": "1.5.0",
            "description_tooltip": null,
            "_model_module": "@jupyter-widgets/controls",
            "layout": "IPY_MODEL_6686b8f51a104859879dca82ee154a86"
          }
        },
        "d461832da1114d45bb74a372f941fa29": {
          "model_module": "@jupyter-widgets/controls",
          "model_name": "ProgressStyleModel",
          "model_module_version": "1.5.0",
          "state": {
            "_view_name": "StyleView",
            "_model_name": "ProgressStyleModel",
            "description_width": "initial",
            "_view_module": "@jupyter-widgets/base",
            "_model_module_version": "1.5.0",
            "_view_count": null,
            "_view_module_version": "1.2.0",
            "bar_color": null,
            "_model_module": "@jupyter-widgets/controls"
          }
        },
        "9eb74d02ae0d482b9ccaa3485f0c61ac": {
          "model_module": "@jupyter-widgets/base",
          "model_name": "LayoutModel",
          "model_module_version": "1.2.0",
          "state": {
            "_view_name": "LayoutView",
            "grid_template_rows": null,
            "right": null,
            "justify_content": null,
            "_view_module": "@jupyter-widgets/base",
            "overflow": null,
            "_model_module_version": "1.2.0",
            "_view_count": null,
            "flex_flow": null,
            "width": null,
            "min_width": null,
            "border": null,
            "align_items": null,
            "bottom": null,
            "_model_module": "@jupyter-widgets/base",
            "top": null,
            "grid_column": null,
            "overflow_y": null,
            "overflow_x": null,
            "grid_auto_flow": null,
            "grid_area": null,
            "grid_template_columns": null,
            "flex": null,
            "_model_name": "LayoutModel",
            "justify_items": null,
            "grid_row": null,
            "max_height": null,
            "align_content": null,
            "visibility": null,
            "align_self": null,
            "height": null,
            "min_height": null,
            "padding": null,
            "grid_auto_rows": null,
            "grid_gap": null,
            "max_width": null,
            "order": null,
            "_view_module_version": "1.2.0",
            "grid_template_areas": null,
            "object_position": null,
            "object_fit": null,
            "grid_auto_columns": null,
            "margin": null,
            "display": null,
            "left": null
          }
        },
        "051e6ddcc00845539d25392ddc6d4ce6": {
          "model_module": "@jupyter-widgets/controls",
          "model_name": "DescriptionStyleModel",
          "model_module_version": "1.5.0",
          "state": {
            "_view_name": "StyleView",
            "_model_name": "DescriptionStyleModel",
            "description_width": "",
            "_view_module": "@jupyter-widgets/base",
            "_model_module_version": "1.5.0",
            "_view_count": null,
            "_view_module_version": "1.2.0",
            "_model_module": "@jupyter-widgets/controls"
          }
        },
        "6686b8f51a104859879dca82ee154a86": {
          "model_module": "@jupyter-widgets/base",
          "model_name": "LayoutModel",
          "model_module_version": "1.2.0",
          "state": {
            "_view_name": "LayoutView",
            "grid_template_rows": null,
            "right": null,
            "justify_content": null,
            "_view_module": "@jupyter-widgets/base",
            "overflow": null,
            "_model_module_version": "1.2.0",
            "_view_count": null,
            "flex_flow": null,
            "width": null,
            "min_width": null,
            "border": null,
            "align_items": null,
            "bottom": null,
            "_model_module": "@jupyter-widgets/base",
            "top": null,
            "grid_column": null,
            "overflow_y": null,
            "overflow_x": null,
            "grid_auto_flow": null,
            "grid_area": null,
            "grid_template_columns": null,
            "flex": null,
            "_model_name": "LayoutModel",
            "justify_items": null,
            "grid_row": null,
            "max_height": null,
            "align_content": null,
            "visibility": null,
            "align_self": null,
            "height": null,
            "min_height": null,
            "padding": null,
            "grid_auto_rows": null,
            "grid_gap": null,
            "max_width": null,
            "order": null,
            "_view_module_version": "1.2.0",
            "grid_template_areas": null,
            "object_position": null,
            "object_fit": null,
            "grid_auto_columns": null,
            "margin": null,
            "display": null,
            "left": null
          }
        },
        "25d2842e7a3840a5a7255939c79753f8": {
          "model_module": "@jupyter-widgets/controls",
          "model_name": "HBoxModel",
          "model_module_version": "1.5.0",
          "state": {
            "_view_name": "HBoxView",
            "_dom_classes": [],
            "_model_name": "HBoxModel",
            "_view_module": "@jupyter-widgets/controls",
            "_model_module_version": "1.5.0",
            "_view_count": null,
            "_view_module_version": "1.5.0",
            "box_style": "",
            "layout": "IPY_MODEL_684bb8cf06cf43e4bc71ac7e98175165",
            "_model_module": "@jupyter-widgets/controls",
            "children": [
              "IPY_MODEL_abb0cf2ae851427da6889dd1af71caf2",
              "IPY_MODEL_5917a33df0ba4204997139c09ec9e996"
            ]
          }
        },
        "684bb8cf06cf43e4bc71ac7e98175165": {
          "model_module": "@jupyter-widgets/base",
          "model_name": "LayoutModel",
          "model_module_version": "1.2.0",
          "state": {
            "_view_name": "LayoutView",
            "grid_template_rows": null,
            "right": null,
            "justify_content": null,
            "_view_module": "@jupyter-widgets/base",
            "overflow": null,
            "_model_module_version": "1.2.0",
            "_view_count": null,
            "flex_flow": null,
            "width": null,
            "min_width": null,
            "border": null,
            "align_items": null,
            "bottom": null,
            "_model_module": "@jupyter-widgets/base",
            "top": null,
            "grid_column": null,
            "overflow_y": null,
            "overflow_x": null,
            "grid_auto_flow": null,
            "grid_area": null,
            "grid_template_columns": null,
            "flex": null,
            "_model_name": "LayoutModel",
            "justify_items": null,
            "grid_row": null,
            "max_height": null,
            "align_content": null,
            "visibility": null,
            "align_self": null,
            "height": null,
            "min_height": null,
            "padding": null,
            "grid_auto_rows": null,
            "grid_gap": null,
            "max_width": null,
            "order": null,
            "_view_module_version": "1.2.0",
            "grid_template_areas": null,
            "object_position": null,
            "object_fit": null,
            "grid_auto_columns": null,
            "margin": null,
            "display": null,
            "left": null
          }
        },
        "abb0cf2ae851427da6889dd1af71caf2": {
          "model_module": "@jupyter-widgets/controls",
          "model_name": "FloatProgressModel",
          "model_module_version": "1.5.0",
          "state": {
            "_view_name": "ProgressView",
            "style": "IPY_MODEL_6f0dd0ebc16541929f229a6f74bc9755",
            "_dom_classes": [],
            "description": "Downloading: 100%",
            "_model_name": "FloatProgressModel",
            "bar_style": "success",
            "max": 1625270765,
            "_view_module": "@jupyter-widgets/controls",
            "_model_module_version": "1.5.0",
            "value": 1625270765,
            "_view_count": null,
            "_view_module_version": "1.5.0",
            "orientation": "horizontal",
            "min": 0,
            "description_tooltip": null,
            "_model_module": "@jupyter-widgets/controls",
            "layout": "IPY_MODEL_f6057d85fb2845d7880b86919cc0a864"
          }
        },
        "5917a33df0ba4204997139c09ec9e996": {
          "model_module": "@jupyter-widgets/controls",
          "model_name": "HTMLModel",
          "model_module_version": "1.5.0",
          "state": {
            "_view_name": "HTMLView",
            "style": "IPY_MODEL_ddcd227de49046c8919106b2ed270683",
            "_dom_classes": [],
            "description": "",
            "_model_name": "HTMLModel",
            "placeholder": "​",
            "_view_module": "@jupyter-widgets/controls",
            "_model_module_version": "1.5.0",
            "value": " 1.63G/1.63G [00:48&lt;00:00, 33.5MB/s]",
            "_view_count": null,
            "_view_module_version": "1.5.0",
            "description_tooltip": null,
            "_model_module": "@jupyter-widgets/controls",
            "layout": "IPY_MODEL_b783777eb83247f1a060e1cbdce6409a"
          }
        },
        "6f0dd0ebc16541929f229a6f74bc9755": {
          "model_module": "@jupyter-widgets/controls",
          "model_name": "ProgressStyleModel",
          "model_module_version": "1.5.0",
          "state": {
            "_view_name": "StyleView",
            "_model_name": "ProgressStyleModel",
            "description_width": "initial",
            "_view_module": "@jupyter-widgets/base",
            "_model_module_version": "1.5.0",
            "_view_count": null,
            "_view_module_version": "1.2.0",
            "bar_color": null,
            "_model_module": "@jupyter-widgets/controls"
          }
        },
        "f6057d85fb2845d7880b86919cc0a864": {
          "model_module": "@jupyter-widgets/base",
          "model_name": "LayoutModel",
          "model_module_version": "1.2.0",
          "state": {
            "_view_name": "LayoutView",
            "grid_template_rows": null,
            "right": null,
            "justify_content": null,
            "_view_module": "@jupyter-widgets/base",
            "overflow": null,
            "_model_module_version": "1.2.0",
            "_view_count": null,
            "flex_flow": null,
            "width": null,
            "min_width": null,
            "border": null,
            "align_items": null,
            "bottom": null,
            "_model_module": "@jupyter-widgets/base",
            "top": null,
            "grid_column": null,
            "overflow_y": null,
            "overflow_x": null,
            "grid_auto_flow": null,
            "grid_area": null,
            "grid_template_columns": null,
            "flex": null,
            "_model_name": "LayoutModel",
            "justify_items": null,
            "grid_row": null,
            "max_height": null,
            "align_content": null,
            "visibility": null,
            "align_self": null,
            "height": null,
            "min_height": null,
            "padding": null,
            "grid_auto_rows": null,
            "grid_gap": null,
            "max_width": null,
            "order": null,
            "_view_module_version": "1.2.0",
            "grid_template_areas": null,
            "object_position": null,
            "object_fit": null,
            "grid_auto_columns": null,
            "margin": null,
            "display": null,
            "left": null
          }
        },
        "ddcd227de49046c8919106b2ed270683": {
          "model_module": "@jupyter-widgets/controls",
          "model_name": "DescriptionStyleModel",
          "model_module_version": "1.5.0",
          "state": {
            "_view_name": "StyleView",
            "_model_name": "DescriptionStyleModel",
            "description_width": "",
            "_view_module": "@jupyter-widgets/base",
            "_model_module_version": "1.5.0",
            "_view_count": null,
            "_view_module_version": "1.2.0",
            "_model_module": "@jupyter-widgets/controls"
          }
        },
        "b783777eb83247f1a060e1cbdce6409a": {
          "model_module": "@jupyter-widgets/base",
          "model_name": "LayoutModel",
          "model_module_version": "1.2.0",
          "state": {
            "_view_name": "LayoutView",
            "grid_template_rows": null,
            "right": null,
            "justify_content": null,
            "_view_module": "@jupyter-widgets/base",
            "overflow": null,
            "_model_module_version": "1.2.0",
            "_view_count": null,
            "flex_flow": null,
            "width": null,
            "min_width": null,
            "border": null,
            "align_items": null,
            "bottom": null,
            "_model_module": "@jupyter-widgets/base",
            "top": null,
            "grid_column": null,
            "overflow_y": null,
            "overflow_x": null,
            "grid_auto_flow": null,
            "grid_area": null,
            "grid_template_columns": null,
            "flex": null,
            "_model_name": "LayoutModel",
            "justify_items": null,
            "grid_row": null,
            "max_height": null,
            "align_content": null,
            "visibility": null,
            "align_self": null,
            "height": null,
            "min_height": null,
            "padding": null,
            "grid_auto_rows": null,
            "grid_gap": null,
            "max_width": null,
            "order": null,
            "_view_module_version": "1.2.0",
            "grid_template_areas": null,
            "object_position": null,
            "object_fit": null,
            "grid_auto_columns": null,
            "margin": null,
            "display": null,
            "left": null
          }
        }
      }
    }
  },
  "cells": [
    {
      "cell_type": "markdown",
      "metadata": {
        "id": "3YmQ0B8PC7dM"
      },
      "source": [
        "# Introducing BART\n",
        "> Episode 1 -- a mysterious new Seq2Seq model with state of the art summarization performance visits a popular open source library\n",
        "\n",
        "- toc: true \n",
        "- badges: true\n",
        "- comments: true\n",
        "- categories: [jupyter]\n",
        "- image: images/text_infilling.png"
      ]
    },
    {
      "cell_type": "markdown",
      "metadata": {
        "id": "Qcljs_oXC7dS"
      },
      "source": [
        "### Overview\n",
        "\n",
        "For the past few weeks, I worked on integrating BART into [transformers](https://github.com/huggingface/transformers/). This post covers the high-level differences between BART and its predecessors and how to use the new `BartForConditionalGeneration` to summarize documents. Leave a comment below if you have any questions!"
      ]
    },
    {
      "cell_type": "markdown",
      "metadata": {
        "id": "GB0zthzJC7dU"
      },
      "source": [
        "### Background: Seq2Seq Pretraining\n",
        "In October 2019, teams from Google and Facebook published new transformer papers:  [T5](https://arxiv.org/abs/1910.10683) and [BART](https://arxiv.org/abs/1910.13461). Both papers achieved better downstream performance on generation tasks, like abstractive summarization and dialogue, with two changes:\n",
        "- add a causal decoder to BERT's bidirectional encoder architecture\n",
        "- replace BERT's fill-in-the blank cloze task with a more complicated mix of pretraining tasks.\n",
        "\n",
        "<!-- **Tasks:** Historically, Seq2Seq models have been used for text generation tasks like summarization and translation. \"BART is particularly effective when finetuned for text generation, but also matches the performance of RoBERTa on GLUE and SQuAD\", with only 10% more parameters. -->"
      ]
    },
    {
      "cell_type": "markdown",
      "metadata": {
        "ExecuteTime": {
          "end_time": "2020-03-07T21:17:48.798208Z",
          "start_time": "2020-03-07T21:17:48.793226Z"
        },
        "id": "ZGIAlhTcC7dW"
      },
      "source": [
        "Now let's dig deeper into the big Seq2Seq pretraining idea!"
      ]
    },
    {
      "cell_type": "markdown",
      "metadata": {
        "id": "gbgjxfgZC7dW"
      },
      "source": [
        "#### Bert vs. GPT2\n",
        "As the BART authors write,\n",
        "> (BART) can be seen as generalizing Bert (due to the bidirectional encoder) and GPT2 (with the left to right decoder). \n",
        "\n",
        "\n",
        "Bert is pretrained to try to predict masked tokens, and uses the whole sequence to get enough info to make a good guess. This is good for tasks where the prediction at position `i` is allowed to utilize information from positions after `i`, but less useful for tasks, like text generation, where the prediction for position `i` can only depend on previously generated words.\n",
        "\n",
        "In code, the idea of \"what information can be used use when predicting the token at position `i`\" is controlled by an argument called `attention_mask`[^2]. A value of 1 in the attention mask means that the model can use information for the column's word when predicting the row's word.\n",
        "    \n",
        "<!-- > Note: In this post, we show attention masks in grids where each row `y` represents an output token, and each column `x` represents an input token. If the square at `(y3, x4)` is black. It means that our prediction for `y3` is allowed to utilize information from `x4`. During pretraining, `x` would be the corrupted document, and `y` would be the original. -->\n",
        "\n",
        "\n",
        "Here is Bert's \"Fully-visible\"[^3] `attention_mask`: \n",
        "    \n",
        "<!-- ![](./bert_mac_small.jpg) -->\n",
        "<!-- ![](./diagram_bartpost_v2.jpg) -->\n",
        "<!-- ![](./bert_excel_v2.jpg) -->\n",
        "![](https://github.com/sshleifer/blog_v2/blob/master/_notebooks/diagram_bert_v5.png?raw=1)\n",
        "\n",
        "[^2]: the same parameter that is used to make model predictions invariant to pad tokens.\n",
        "[^3]: \"Fully-Visible\" and \"bidirectional\" are used interchangeably. Same with \"causal\" and \"autoregressive\"."
      ]
    },
    {
      "cell_type": "markdown",
      "metadata": {
        "ExecuteTime": {
          "end_time": "2020-03-07T21:44:38.925844Z",
          "start_time": "2020-03-07T21:44:38.920749Z"
        },
        "id": "ftfYTB6TC7dX"
      },
      "source": [
        "GPT2, meanwhile, is pretrained to predict the next word using a causal mask, and is more effective for generation tasks, but less effective on downstream tasks where the whole input yields information for the output.\n",
        "\n",
        "Here is the `attention_mask` for GPT2:\n",
        "\n",
        "![](https://github.com/sshleifer/blog_v2/blob/master/_notebooks/diagram_bartpost_gpt2.jpg?raw=1)\n",
        "\n",
        "\n",
        "The prediction for \"eating\", only utilizes previous words: \"`<BOS>` I love\"."
      ]
    },
    {
      "cell_type": "markdown",
      "metadata": {
        "id": "JZhtTJJGC7da"
      },
      "source": [
        "#### Encoder-Decoder\n",
        "Our new friends, like BART, get the best of both worlds. \n",
        "\n",
        "The encoder's `attention_mask` is fully visible, like BERT:\n",
        "![](https://github.com/sshleifer/blog_v2/blob/master/_notebooks/seq2seq_enc_v5.png?raw=1)\n",
        "\n",
        "The decoder's `attention_mask` is causal, like GPT2:\n",
        "\n",
        "![](https://github.com/sshleifer/blog_v2/blob/master/_notebooks/seq2seq_dec.png?raw=1)\n",
        "\n",
        "<!-- ![](./causal_with_prefix.jpg) -->\n",
        "\n",
        "\n",
        "<!-- We can think about this `attention_mask` as smushing together our previous two attention masks, or \"Causal Mask  with a fully visible prefix\" in fancier terms.[^4] -->\n",
        "\n",
        "<!-- [^4]: The UniLM paper presents this as a\"causal mask with a fully visible prefix\" -->\n",
        "<!-- , as the UniLM The indices dont line up perfectly for the smush to work, but tokens 1 and 2 are the fully visible prefix (or the input to the encoder) and tokens 3,4,5 are the causally masked suffix (or inputs to the decoder). In summarization terms, you could imagine tokens 1 and 2 as the article, and we generate tokens 3-5 auto-regressively. -->\n",
        "\n",
        "<!-- ![](./t5_mask_diagram.png) -->"
      ]
    },
    {
      "cell_type": "markdown",
      "metadata": {
        "id": "fK4XexdGC7dc"
      },
      "source": [
        "The encoder and decoder are connected by cross-attention, where each decoder layer performs attention over the final hidden state of the encoder output. This presumably nudges the models towards generating output that is closely connected to the original input.\n"
      ]
    },
    {
      "cell_type": "markdown",
      "metadata": {
        "ExecuteTime": {
          "end_time": "2020-03-12T05:00:04.310698Z",
          "start_time": "2020-03-12T05:00:04.269069Z"
        },
        "id": "RIVDJ0XlC7dd"
      },
      "source": [
        "#### Pretraining: Fill In the Span\n",
        "Bart and T5 are both pretrained[^5] on tasks where **spans** of text are replaced by masked tokens. The model must learn to reconstruct the original document. Figure 1 from the BART paper explains it well:\n",
        "\n",
        "![](https://github.com/sshleifer/blog_v2/blob/master/_notebooks/text_infilling.png?raw=1)\n",
        "In this example, the original document is A B C D E. the span `[C, D]` is masked before encoding and an extra mask is inserted before B, leaving the corrupted document `'A _ B _ E'` as input to the encoder. \n",
        "\n",
        "The decoder (autogressive means \"uses a causal mask\") must reconstruct the original document, using the encoder's output and previous uncorrupted tokens.\n",
        "[^5]: This is a bit of a simplification. Both papers experiment with many different pretraining tasks, and find that this one performs well. T5 uses a \"replace corrupted spans\" task. Instead of putting masks, they put in a random token."
      ]
    },
    {
      "cell_type": "markdown",
      "metadata": {
        "ExecuteTime": {
          "end_time": "2020-03-09T20:34:20.044872Z",
          "start_time": "2020-03-09T20:34:20.042569Z"
        },
        "id": "ljxbODDBC7df"
      },
      "source": [
        "### Summarization"
      ]
    },
    {
      "cell_type": "markdown",
      "metadata": {
        "id": "uhBGNs6rC7dg"
      },
      "source": [
        "In summarization tasks, the `input` sequence is the document we want to summarize, and the `output` sequence is a ground truth summary.\n",
        "Seq2Seq archictectures can be directly finetuned on summarization tasks, without any new randomly initialized heads. The pretraining task is also a good match for the downstream task. In both settings, the input document must be copied from the input with modification. The numbers confirm this: all the new fancy Seq2Seq models do a lot better than the old less-fancy guys on the CNN/Daily Mail abstractive summarization task, and BART does especially well."
      ]
    },
    {
      "cell_type": "markdown",
      "metadata": {
        "ExecuteTime": {
          "end_time": "2020-03-11T17:54:04.908553Z",
          "start_time": "2020-03-11T17:54:04.902522Z"
        },
        "id": "VoNo6dCWC7dg"
      },
      "source": [
        "|                Model |   Rouge2 | Model Size   | Pretraining   |\n",
        "|:---------------------|---------:|:-------------|:--------------|\n",
        "| PT-Gen               |    17.28 | 22 M         | None          |\n",
        "| TransformerAbs       |    17.76 | 200M         | None          |\n",
        "| BertSumABS           |    19.39 | 220 M        | Encoder       |\n",
        "| UniLM                |    20.3  | 340 M        | Seq2Seq       |\n",
        "| T5-base              |    20.34 | 770 M        | Seq2Seq       |\n",
        "| Bart                 |    21.28 | 406 M        | Seq2Seq       |\n",
        "| T5-11B               |    21.55 | 11 B         | Seq2Seq       |"
      ]
    },
    {
      "cell_type": "markdown",
      "metadata": {
        "ExecuteTime": {
          "end_time": "2020-03-07T20:22:23.597072Z",
          "start_time": "2020-03-07T20:22:23.524178Z"
        },
        "id": "U2nwg94vC7dh"
      },
      "source": [
        "- `BertSumABS` (from [*Text Summarization with Pretrained Encoders*](https://arxiv.org/abs/1908.08345), uses a Seq2Seq architecture but doesn't pretrain the decoder. `TransformerAbs`, from the same paper, uses a slightly smaller model and no pretraining. \n",
        "- `PT-Gen` is from [Get To The Point: Summarization with Pointer-Generator Networks](https://arxiv.org/pdf/1704.04368.pdf)\n",
        "- [UniLM](https://arxiv.org/abs/1905.03197) is a \"Prefix-LM\" with a similar masking strategy to Bart and T5.\n"
      ]
    },
    {
      "cell_type": "markdown",
      "metadata": {
        "id": "rEEcbCrNC7dh"
      },
      "source": [
        "### Demo: BartForConditionalGeneration "
      ]
    },
    {
      "cell_type": "code",
      "metadata": {
        "id": "OMumqOxjIwpp"
      },
      "source": [
        "!pip install transformers"
      ],
      "execution_count": null,
      "outputs": []
    },
    {
      "cell_type": "code",
      "metadata": {
        "ExecuteTime": {
          "end_time": "2020-03-11T17:41:37.001567Z",
          "start_time": "2020-03-11T17:41:36.984621Z"
        },
        "code_folding": [],
        "id": "l7--iYv6C7di"
      },
      "source": [
        "import torch\n",
        "import transformers\n",
        "from transformers import BartTokenizer, BartForConditionalGeneration\n",
        "from IPython.display import display, Markdown\n",
        "\n",
        "torch_device = 'cuda' if torch.cuda.is_available() else 'cpu'"
      ],
      "execution_count": null,
      "outputs": []
    },
    {
      "cell_type": "code",
      "metadata": {
        "id": "PTaYwhNGKekb"
      },
      "source": [
        "LONG_BORING_TENNIS_ARTICLE = \"\"\"\n",
        "My girlfriend and I have been in a monogomous relationship for fifteen months now, and we have been sexually active. She was recently on birth control, but stopped taking it on November 26 because the pills were very negitivly affecting her during her PMS. Our relationship was rocky, and the details are fuzzy, but sometime soon after stopping the pills (a few days) she got her period. Her period ended, (we BELIEVE) on December 6. On December 17, she and I had unprotected sex on-and-off. I did not ejaculate in her body. We checked to ensure my penis was dry every time we put it in. However, we were still concerned. December 19 at 1:00 PM she took the first pill of the two-pill Next Choice Two Step. 1:00 PM was 42 hours into the 72 hour allotted time-frame. Today is December 23, and her and I are very worried. We are not entirely sure when we should expect her period, and we are nervous. I need some peace-of-mind from a professional opinion. Do you believe she could be pregnant?\n",
        "\n",
        "\"\"\".replace('\\n','')"
      ],
      "execution_count": null,
      "outputs": []
    },
    {
      "cell_type": "code",
      "metadata": {
        "colab": {
          "base_uri": "https://localhost:8080/",
          "height": 262,
          "referenced_widgets": [
            "d935997bea184fd5a797054ff3fb8cca",
            "5f4b475f842f4f679a440e06d5c9d13b",
            "a3c7eb21f5174ff6adfa76bee6d5e9ea",
            "4d6a6573d70c4125ae4564ee4e4434a7",
            "fef7ee84ec284c99abd3c6988f973868",
            "5b771cccda6741eeb1ea0b36b77932c5",
            "25e71b1706e64817acda809ac7b60c8b",
            "dce45a0e55e243429a981a3e2140516c",
            "b3f7ee582c02475988eef6a3f860d93b",
            "a1141c25fddb474c9ca258ed7fb79b20",
            "a357d7aada7a44a78520ebcb767575c2",
            "dba8a35c91ce427884f25130e53d5680",
            "646273ca48ff47aeaef31c6508df367e",
            "f95747f9211b42abbe3681a751d07be1",
            "01a0d8e1463d4cd9b96257448b211913",
            "ad3b5e72c8694a2dabf211a04a51d914",
            "6e8ebc2a3d0547c3b13ebe30eecf3d8f",
            "04c6a105c8d34b1a80d8b0e495584e63",
            "ba7e8050044f4ba89d342c3bcd269540",
            "1e3b7c5689ea44e7b8798b43a982c155",
            "c103677214934c788858d0e4f1356644",
            "f8e54d618e004e2f9174b2f800186cbd",
            "c09214edef9f4fabb4132912a87c2aee",
            "39bcee6eee134a8db3807737a2a1c0af",
            "8f02ae0d939c4039b7b67c484f1f96b7",
            "b9055ee3e77e4b87af01f91415c27d57",
            "b1fc5b409ec147adb4f74e2dce76ee1a",
            "6edbef49f9fd43af9e5c088e4a8e58b2",
            "d461832da1114d45bb74a372f941fa29",
            "9eb74d02ae0d482b9ccaa3485f0c61ac",
            "051e6ddcc00845539d25392ddc6d4ce6",
            "6686b8f51a104859879dca82ee154a86",
            "25d2842e7a3840a5a7255939c79753f8",
            "684bb8cf06cf43e4bc71ac7e98175165",
            "abb0cf2ae851427da6889dd1af71caf2",
            "5917a33df0ba4204997139c09ec9e996",
            "6f0dd0ebc16541929f229a6f74bc9755",
            "f6057d85fb2845d7880b86919cc0a864",
            "ddcd227de49046c8919106b2ed270683",
            "b783777eb83247f1a060e1cbdce6409a"
          ]
        },
        "id": "7Dkqkwq8JJQv",
        "outputId": "04658091-e6e2-4c4a-9775-648543a675ef"
      },
      "source": [
        "tokenizer = BartTokenizer.from_pretrained('facebook/bart-large-cnn')\n",
        "model = BartForConditionalGeneration.from_pretrained('facebook/bart-large-cnn')"
      ],
      "execution_count": null,
      "outputs": [
        {
          "output_type": "display_data",
          "data": {
            "application/vnd.jupyter.widget-view+json": {
              "model_id": "d935997bea184fd5a797054ff3fb8cca",
              "version_minor": 0,
              "version_major": 2
            },
            "text/plain": [
              "HBox(children=(FloatProgress(value=0.0, description='Downloading', max=898823.0, style=ProgressStyle(descripti…"
            ]
          },
          "metadata": {
            "tags": []
          }
        },
        {
          "output_type": "stream",
          "text": [
            "\n"
          ],
          "name": "stdout"
        },
        {
          "output_type": "display_data",
          "data": {
            "application/vnd.jupyter.widget-view+json": {
              "model_id": "b3f7ee582c02475988eef6a3f860d93b",
              "version_minor": 0,
              "version_major": 2
            },
            "text/plain": [
              "HBox(children=(FloatProgress(value=0.0, description='Downloading', max=456318.0, style=ProgressStyle(descripti…"
            ]
          },
          "metadata": {
            "tags": []
          }
        },
        {
          "output_type": "stream",
          "text": [
            "\n"
          ],
          "name": "stdout"
        },
        {
          "output_type": "display_data",
          "data": {
            "application/vnd.jupyter.widget-view+json": {
              "model_id": "6e8ebc2a3d0547c3b13ebe30eecf3d8f",
              "version_minor": 0,
              "version_major": 2
            },
            "text/plain": [
              "HBox(children=(FloatProgress(value=0.0, description='Downloading', max=1355863.0, style=ProgressStyle(descript…"
            ]
          },
          "metadata": {
            "tags": []
          }
        },
        {
          "output_type": "stream",
          "text": [
            "\n"
          ],
          "name": "stdout"
        },
        {
          "output_type": "display_data",
          "data": {
            "application/vnd.jupyter.widget-view+json": {
              "model_id": "8f02ae0d939c4039b7b67c484f1f96b7",
              "version_minor": 0,
              "version_major": 2
            },
            "text/plain": [
              "HBox(children=(FloatProgress(value=0.0, description='Downloading', max=1585.0, style=ProgressStyle(description…"
            ]
          },
          "metadata": {
            "tags": []
          }
        },
        {
          "output_type": "stream",
          "text": [
            "\n"
          ],
          "name": "stdout"
        },
        {
          "output_type": "display_data",
          "data": {
            "application/vnd.jupyter.widget-view+json": {
              "model_id": "25d2842e7a3840a5a7255939c79753f8",
              "version_minor": 0,
              "version_major": 2
            },
            "text/plain": [
              "HBox(children=(FloatProgress(value=0.0, description='Downloading', max=1625270765.0, style=ProgressStyle(descr…"
            ]
          },
          "metadata": {
            "tags": []
          }
        },
        {
          "output_type": "stream",
          "text": [
            "\n"
          ],
          "name": "stdout"
        }
      ]
    },
    {
      "cell_type": "code",
      "metadata": {
        "ExecuteTime": {
          "end_time": "2020-03-12T04:11:23.622042Z",
          "start_time": "2020-03-12T04:10:44.318808Z"
        },
        "id": "g3-vF0wnC7dn",
        "colab": {
          "base_uri": "https://localhost:8080/",
          "height": 96
        },
        "outputId": "aa15e080-fa87-44ac-ad32-ed3e3782e275"
      },
      "source": [
        "article_input_ids = tokenizer.batch_encode_plus([ARTICLE2], return_tensors='pt', max_length=1024)['input_ids']\n",
        "summary_ids = model.generate(article_input_ids,\n",
        "                             num_beams=4,\n",
        "                             length_penalty=2.0,\n",
        "                             max_length=142,\n",
        "                             no_repeat_ngram_size=3)\n",
        "\n",
        "summary_txt = tokenizer.decode(summary_ids.squeeze(), skip_special_tokens=True)\n",
        "display(Markdown('> **Summary: **'+summary_txt))"
      ],
      "execution_count": null,
      "outputs": [
        {
          "output_type": "display_data",
          "data": {
            "text/markdown": "> **Summary: **Mr Tan Ah Kow was accompanied by his son, Mr Tan Ah Beng, for the examination. He has had hypertension andhyperlipidemia since 1990 and suffered several strokes in 2005. The clinical impression was that he was manifesting behavioural and psychological symptoms secondary to Dementia. He is at present incontinent, and isunable to bathe or use the toilet on his own.",
            "text/plain": [
              "<IPython.core.display.Markdown object>"
            ]
          },
          "metadata": {
            "tags": []
          }
        }
      ]
    },
    {
      "cell_type": "markdown",
      "metadata": {
        "id": "I6mnasw9C7ds"
      },
      "source": [
        "GPT2, which in fairness is not finetuned for summarization, cannot really continue the tennis article sensically."
      ]
    },
    {
      "cell_type": "code",
      "metadata": {
        "id": "RNLuSQuRKA2b"
      },
      "source": [
        "from transformers import GPT2LMHeadModel, GPT2Tokenizer\n",
        "gpt2_tok = GPT2Tokenizer.from_pretrained('gpt2')\n",
        "gpt2_model = GPT2LMHeadModel.from_pretrained('gpt2')"
      ],
      "execution_count": null,
      "outputs": []
    },
    {
      "cell_type": "code",
      "metadata": {
        "ExecuteTime": {
          "end_time": "2020-03-12T03:35:25.521518Z",
          "start_time": "2020-03-12T03:35:25.463250Z"
        },
        "id": "t5KNlLMxC7dt",
        "colab": {
          "base_uri": "https://localhost:8080/",
          "height": 164
        },
        "outputId": "2f40fba9-aa36-4627-adcb-94d1720cf3ba"
      },
      "source": [
        "# truncate to 869 tokens so that we have space to generate another 155\n",
        "enc = gpt2_tok.encode(LONG_BORING_TENNIS_ARTICLE,truncation=True, max_length=1024-155, return_tensors='pt') \n",
        "# Generate another 155 tokens\n",
        "source_and_summary_ids = gpt2_model.generate(enc, max_length=1024, do_sample=False)\n",
        "# Only show the new ones\n",
        "end_of_source = \"An official statement said:\" \n",
        "_, summary_gpt2 = gpt2_tok.decode(source_and_summary_ids[0]).split(end_of_source)\n",
        "display(Markdown('> **GPT2:** ' + summary_gpt2))\n",
        "# _, summary_gpt2 = gpt2_tok.decode(source_and_summary_ids[0])\n",
        "# print(summary_gpt2)"
      ],
      "execution_count": null,
      "outputs": [
        {
          "output_type": "stream",
          "text": [
            "Setting `pad_token_id` to `eos_token_id`:50256 for open-end generation.\n"
          ],
          "name": "stderr"
        },
        {
          "output_type": "display_data",
          "data": {
            "text/markdown": "> **GPT2:**  'To have a player like James Ward, Kyle Edmund, Liam Broady and Aljaz Bedene in the top 100 is a huge achievement for the Lawn Tennis Association. The Lawn Tennis Association is committed to the development of the sport and the development of the sport's players. The Lawn Tennis Association is committed to the development of the sport and the development of the sport's players. The Lawn Tennis Association is committed to the development of the sport and the development of the sport's players. The Lawn Tennis Association is committed to the development of the sport and the development of the sport's players. The Lawn Tennis Association is committed to the development of the sport and the development of the sport's players. The Lawn Tennis Association is committed to the development of the sport and the development of the",
            "text/plain": [
              "<IPython.core.display.Markdown object>"
            ]
          },
          "metadata": {
            "tags": []
          }
        }
      ]
    },
    {
      "cell_type": "code",
      "metadata": {
        "colab": {
          "base_uri": "https://localhost:8080/",
          "height": 147
        },
        "id": "Dp8I7DAQNbB2",
        "outputId": "73631ed5-204d-4d8f-9365-667d6f961319"
      },
      "source": [
        "a, summary_gpt2 = gpt2_tok.decode(source_and_summary_ids[0]).split(end_of_source)\n",
        "display(Markdown('> **GPT2:** ' + a))"
      ],
      "execution_count": null,
      "outputs": [
        {
          "output_type": "display_data",
          "data": {
            "text/markdown": "> **GPT2:**  'To have a player like James Ward, Kyle Edmund, Liam Broady and Aljaz Bedene in the top 100 is a huge achievement for the Lawn Tennis Association. The Lawn Tennis Association is committed to the development of the sport and the development of the sport's players. The Lawn Tennis Association is committed to the development of the sport and the development of the sport's players. The Lawn Tennis Association is committed to the development of the sport and the development of the sport's players. The Lawn Tennis Association is committed to the development of the sport and the development of the sport's players. The Lawn Tennis Association is committed to the development of the sport and the development of the sport's players. The Lawn Tennis Association is committed to the development of the sport and the development of the",
            "text/plain": [
              "<IPython.core.display.Markdown object>"
            ]
          },
          "metadata": {
            "tags": []
          }
        }
      ]
    },
    {
      "cell_type": "code",
      "metadata": {
        "colab": {
          "base_uri": "https://localhost:8080/"
        },
        "id": "nKE9ghDFPTN-",
        "outputId": "0645efd8-dcdc-4e80-db56-069dbcb42427"
      },
      "source": [
        "print(a)"
      ],
      "execution_count": null,
      "outputs": [
        {
          "output_type": "stream",
          "text": [
            " Andy Murray  came close to giving himself some extra preparation time for his wedding next week before ensuring that he still has unfinished tennis business to attend to. The world No 4 is into the semi-finals of the Miami Open, but not before getting a scare from 21 year-old Austrian Dominic Thiem, who pushed him to 4-4 in the second set before going down 3-6 6-4, 6-1 in an hour and three quarters. Murray was awaiting the winner from the last eight match between Tomas Berdych and Argentina's Juan Monaco. Prior to this tournament Thiem lost in the second round of a Challenger event to soon-to-be new Brit Aljaz Bedene. Andy Murray pumps his first after defeating Dominic Thiem to reach the Miami Open semi finals. Muray throws his sweatband into the crowd after completing a 3-6, 6-4, 6-1 victory in Florida. Murray shakes hands with Thiem who he described as a'strong guy' after the game. And Murray has a fairly simple message for any of his fellow British tennis players who might be agitated about his imminent arrival into the home ranks: don't complain. Instead the British No 1 believes his colleagues should use the assimilation of the world number 83, originally from Slovenia, as motivation to better themselves. At present any grumbles are happening in private, and Bedene's present ineligibility for the Davis Cup team has made it less of an issue, although that could change if his appeal to play is allowed by the International Tennis Federation. Murray thinks anyone questioning the move, now it has become official, would be better working on getting their ranking closer to his. 'If he was 500 in the world they wouldn't be that fussed about it but obviously he threatens their position a bit,' said the 27 year-old Scot.'and he's obviously the British number two, comfortably. 'So they can complain but the best thing to do is use it in the right way and accept it for what it is, and try to use it as motivation whether they agree with it or not. He's British now so they've just got to deal with it. Murray stretches for a return after starting his quarter final match slowly on the show court. Thiem held nothing back as he raced through the opening set, winning it 6-3 with a single break. The young Austrian is considered to be one of the hottest prospects on the ATP Tour. 'I would hope that all the guys who are below him now like James (Ward), Kyle (Edmund), Liam (Broady) they will use it as motivation. If he becomes eligible for Davis Cup then those guys are going to have to prove themselves. 'It can only be seen as a positive for those guys using it to try to get better. He's a good player but so are James and Kyle and Liam has improved. Aljaz is there, he's on the tour every week, the other guys aren't quite there yet.' For the first time Murray, who has an encyclopaedic knowledge of the top 100, gave his opinion of Bedene: 'He's a good player with a very good serve. He's a legitimate top 100 player, when he plays Challengers he's there or thereabouts, when he plays on the main tour he wins matches, it's not like he turns up and always loses in the first round. Murray's fiancee was once again watching from the stands shaded by a huge brimmed hat. Kim Sears flashes her enormous diamond engagement ring while watching her beau on court. 'He had a bad injury last year (wrist) but has recovered well. I would imagine he would keep moving up the rankings although I don't know exactly how high he can go. I've practised with him a couple of times, I haven't seen him play loads, but when you serve as well as he does it helps. I would imagine he' s going to be comfortably in the top 70 or 80 in the world for a while.' It is understood the Lawn Tennis Association will give background support to his case regarding the Davis Cup but have made it clear that the onus is on him to lead the way. \n"
          ],
          "name": "stdout"
        }
      ]
    },
    {
      "cell_type": "markdown",
      "metadata": {
        "id": "Au_Xga8JC7du"
      },
      "source": [
        "More importantly, these snippets show that even though `BartForConditionalGeneration` is a Seq2Seq model, while `GPT2LMHeadModel` is not, they can be invoked in similar ways for generation."
      ]
    },
    {
      "cell_type": "markdown",
      "metadata": {
        "id": "PQtoCDa1C7du"
      },
      "source": [
        "## Conclusion\n",
        "Our first release of `BartModel` prioritized moving quickly and keeping the code simple, but it's still a work in progress. I am currently working on making the implementation in transformers faster and more memory efficient, so stay tuned for episode 2!\n",
        "\n",
        "A big thank you to Sasha Rush, Patrick von Platen, Thomas Wolf, Clement Delangue, Victor Sanh, Yacine Jernite, Harrison Chase and Colin Raffel for their feedback on earlier versions of this post, and to the BART authors for releasing their code and answering questions on GitHub."
      ]
    },
    {
      "cell_type": "code",
      "metadata": {
        "id": "VG0lLfeHQTNY"
      },
      "source": [
        "ARTICLE = \"\"\"\n",
        "According to current live statistics at the time of editing this letter, Russia has been the third country in the world to be affected by COVID-19 with both new cases and death rates rising. It remains in a position of advantage due to the later onset of the viral spread within the country since the worldwide disease outbreak.\n",
        "Most of the multidisciplinary hospitals have been repurposed as dedicated COVID-19 centres, so the surgeons started working as infectious disease specialists. Such a reallocation of health care capacity results in the effective management of this epidemiological problem 1 . The staff has undergone on-line 36-hour training course to become qualified in coronavirus infection treatment.\n",
        "The surgeons of COVID-19 dedicated hospitals do rarely practice surgery. When ICU patients need mechanical ventilation, percutaneous tracheostomy under endoscopic control is mostly performed, as it decreases the aerosol formation, viral load on staff and complications, associated with an endotracheal tube in comparison with surgical tracheostomy 2 . However, it is still associated with the risk of aerosol formation, so different approaches should be considered for a long-time perspective 3 .\n",
        "The majority of the studies dedicated to colorectal diseases are temporarily paused. The teaching and training are mostly translated via online platforms, which has excluded the opportunity to get clinical experience in surgery 4 .\n",
        "The approach to patient routing has changed significantly. If one is not diagnosed with COVID-19 CT scan and laboratory testing are provided immediately. The patients should be admitted to the surgical department, where treatment is provided only to those COVID-19 negative.\n",
        "The patient isolated for more than 2 weeks and COVID-19 negative as a result of 2 subsequent tests is admitted to the surgical department with an option to readmission to the infectious department and can be treated by surgical staff, which does not work with COVID-19 positive patients.The patient, diagnosed with coronavirus infection and treated at home is admitted to COVID-19 dedicated multidisciplinary hospital, where surgical care is provided. Those treated in infectious diseases hospital or COVID-19 dedicated centre are managed by the surgical team present.Surgery has become highly elective, being mostly available for high-risk patients with emergencies, malignancies, cardiovascular pathologies or infections. Preoperative testing in surgical patients with respiratory symptoms and history of travelling or contacting with COVID-19 positive people and postoperative recovery in the operating unit seem to be highly effective measures 5 . A lot of rearrangements are performed locally regarding personal protective equipment, the organization of scrubbing, donning and doffing, and dedicated changing areas. Moreover, observational departments are organized in surgical hospitals for patient allocation before coronavirus infection status is defined 6 .Surgery for benign disorders, precancerous lesions, and reconstructive procedures are currently postponed. Regarding colorectal cancer, surgical treatment may be postponed, if it is a non-obstructing disease 7 .\n",
        "Laparoscopic surgery and diathermy are limited as well. The importance of special operating theatre for COVID-19 patients with negative pressure ventilation, unidirectional laminar flow, as well as the use of smoke evacuation systems during surgery are taken into account 8 .\n",
        "Such an electiveness of surgery is concerning, as it might cause a worldwide healthcare catastrophe in the post-pandemic era 5 . More efforts should be taken to expand the amount and types of surgical procedures performed.\n",
        "Due to the early preventive and corrective actions we have already reached the plateau in new cases curve, counting for up to 8 984 cases identified at the time of writing this paper (June 7 th , 2020), with a mortality rate of 1\\u22c55075%. These statistical outcomes are resulted by a 68-day lockdown, admission regime, and healthcare rearrangement. Thus, the multistep restriction lifting has already started to consistently recover in both social and economic aspects.\n",
        " \n",
        "  \"\"\".replace('\\n','')"
      ],
      "execution_count": null,
      "outputs": []
    },
    {
      "cell_type": "code",
      "metadata": {
        "id": "nBpIKD6wjW03"
      },
      "source": [
        "ARTICLE2 = \"\"\"\n",
        "Mr Tan Ah Kow was accompanied by his son, Mr Tan Ah Beng, for the examination.\n",
        "Mr Tan is a 55 year old man, who is divorced, and unemployed. Mr Tan is currently\n",
        "living with his son, Ah Beng, in Ah Beng’s flat. Mr Tan Ah Beng informed me that\n",
        "Mr Tan Ah Kow used to work as a cleaner.\n",
        "Mr Tan Ah Kow has a history of medical conditions. He has had hypertension and\n",
        "hyperlipidemia since 1990 and suffered several strokes in 2005. He subsequently\n",
        "developed heart problems (cardiomyopathy), cardiac failure and chronic renal disease\n",
        "and was treated in ABC Hospital.\n",
        "He was last admitted to the ABC Hospital on 1 April 2010 till 15 April 2010, during\n",
        "which he was diagnosed to have suffered from a stroke. This was confirmed by CT\n",
        "and MRI brain scans.\n",
        "Thereafter, he was transferred to XYZ Hospital for stroke rehabilitation on 15 April\n",
        "2010.\n",
        "After that, Mr Tan was referred to Blackacre Hospital for follow-up treatment from in\n",
        "November 2010. The clinical impression was that he was manifesting behavioural and\n",
        "psychological symptoms secondary to Dementia.\n",
        "The clinical impression was that he was manifesting behavioural and psychological\n",
        "symptoms secondary to Dementia.\n",
        "I was informed by Mr Tan Ah Beng that Mr Tan is at present incontinent, and is\n",
        "unable to bathe or use the toilet on his own. He is, however, able to feed himself.\n",
        "I have observed a gradual deterioration in his cognitive ability and physical state over\n",
        "the years.\n",
        "\n",
        "\"\"\".replace('\\n','')"
      ],
      "execution_count": null,
      "outputs": []
    },
    {
      "cell_type": "code",
      "metadata": {
        "id": "68i4zYv_ZKYf"
      },
      "source": [
        "from transformers import pipeline\n",
        "summarizer = pipeline(\"summarization\")"
      ],
      "execution_count": null,
      "outputs": []
    },
    {
      "cell_type": "code",
      "metadata": {
        "colab": {
          "base_uri": "https://localhost:8080/"
        },
        "id": "hYWPdmraKDiE",
        "outputId": "341edcc5-93c8-41c9-961f-b2a78b1aac96"
      },
      "source": [
        "print(summarizer(ARTICLE2, max_length=150, min_length=30))"
      ],
      "execution_count": null,
      "outputs": [
        {
          "output_type": "stream",
          "text": [
            "[{'summary_text': ' Mr Tan Ah Kow is a 55 year old man, who is divorced, and unemployed . He has had hypertension andhyperlipidemia since 1990 and suffered several strokes in 2005 . The clinical impression was that he was manifesting behavioural and psychological symptoms secondary to Dementia .'}]\n"
          ],
          "name": "stdout"
        }
      ]
    },
    {
      "cell_type": "code",
      "metadata": {
        "id": "yJGApSEZP5YT"
      },
      "source": [
        ""
      ],
      "execution_count": null,
      "outputs": []
    }
  ]
}